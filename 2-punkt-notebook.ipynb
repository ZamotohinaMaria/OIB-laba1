{
 "cells": [
  {
   "attachments": {},
   "cell_type": "markdown",
   "metadata": {},
   "source": [
    "# Добро пожаловать в расшифровщик текста Замотохиной Марии!"
   ]
  },
  {
   "attachments": {},
   "cell_type": "markdown",
   "metadata": {},
   "source": [
    "## Сбор и подготовка данных для расшифроки"
   ]
  },
  {
   "attachments": {},
   "cell_type": "markdown",
   "metadata": {},
   "source": [
    "#### Получение частот букв русского алфавита из файла для удобства работы"
   ]
  },
  {
   "cell_type": "code",
   "execution_count": 2,
   "metadata": {},
   "outputs": [
    {
     "name": "stdout",
     "output_type": "stream",
     "text": [
      "{' ': ['0.128675'], 'О': ['0.096456'], 'И': ['0.075312'], 'Е': ['0.072292'], 'А': ['0.064841'], 'Н': ['0.061820'], 'Т': ['0.061619'], 'С': ['0.051953'], 'Р': ['0.040677'], 'В': ['0.039267'], 'М': ['0.029803'], 'Л': ['0.029400'], 'Д': ['0.026983'], 'Я': ['0.026379'], 'К': ['0.025977'], 'П': ['0.024768'], 'З': ['0.015908'], 'Ы': ['0.015707'], 'Ь': ['0.015103'], 'У': ['0.013290'], 'Ч': ['0.011679'], 'Ж': ['0.010673'], 'Г': ['0.009867'], 'Х': ['0.008659'], 'Ф': ['0.007249'], 'Й': ['0.006847'], 'Ю': ['0.006847'], 'Б': ['0.006645'], 'Ц': ['0.005034'], 'Ш': ['0.004229'], 'Щ': ['0.003625'], 'Э': ['0.002416'], 'Ъ': ['0.000000']}\n"
     ]
    }
   ],
   "source": [
    "litter_chastota = {}\n",
    "with open('chastota.txt', mode='r', encoding='utf-8') as file:\n",
    "    for i in range(33):\n",
    "        r = file.readline()\n",
    "        r=r.split('\\n')\n",
    "        r=r[0].split('=')\n",
    "        litter_chastota[r[0]] = [r[1]]\n",
    "    file.close()\n",
    "print(litter_chastota)"
   ]
  },
  {
   "attachments": {},
   "cell_type": "markdown",
   "metadata": {},
   "source": [
    "#### Получаем текст из файла"
   ]
  },
  {
   "cell_type": "code",
   "execution_count": 3,
   "metadata": {},
   "outputs": [
    {
     "name": "stdout",
     "output_type": "stream",
     "text": [
      "И7У24>2 >МР4ДД >М2ЕПЧЙМД48 О4ЙАИЛМrЕt48ДЕ2ЧММИЙtЕХ4МШ4Ф1МЙ>ХИЙМУ1УМРОЕУ<Д >МР4ДД >МУ1УМЕЪУШtЕО4ДД ФМИ-УПД41МИМЙЕ<ХУМ8t>ДУЛМЙ>ЕtУУМrt>РrЕ14П4>ЙИЛМ<ЙЕМР4ДД >МrtЕУ8ОЕРЛЙИЛМУИЙЕ<ДУХЕ2МУМrt>РЕИЙ4О1ЛКЙИЛМХЕ2rt>ИИЕtЧМОМОУР>МИУ2ОЕ14МД4РМД>ХЕЙЕt 2М41Ш4ОУЙЕ2Мt4ДАЫ>МО>ИАМrtЕЪ>ИИМИ74ЙУЛМД48 О41УМХЕРУtЕО4ДУ>2МУИЙЕ<ДУХ4МrЕИХЕ1АХЧМЕДЕМrtУ8О4ДЕМЧР41УЙАМУ85 ЙЕ<ДЕИЙАМОМР4ДД ЩМД4МЕИДЕО>МУЩМrt>РИХ48Ч>2ЕИЙУМrЧЙ>2МУДЕПЕМrt>РИЙ4О1>ДУЛМР4ДД ЩММЙЕМ>ИЙАМУЩМХЕРУtЕО4ДУЛМ84МРО4МrЕИ1>РДУЩМР>ИЛЙУ1>ЙУЛМХ4tЙУД4МД>ИХЕ1АХЕМУ82>ДУ14ИАМr>tОЕФМ14ИЙЕ<ХЕФМИЙ414МУР>ЛМt48Р>1УЙАМrtЕЪ>ИИМИ74ЙУЛМД4МРО4МО84У2ЕИОЛ84ДД ЩМrtЕЪ>ИИ4МХЕРУtЕО4ДУ>МД>rЕИt>РИЙО>ДДЕМОЕИrtЕУ8ОЕРЛЬ>>МИ74Й ФМrЕЙЕХ-МИУ2ОЕ1ЕОМУМ2ЕР>1УtЕО4ДУ>Мrt>РЕИЙ4О1ЛКЬ>>МОИКМД>Е5ЩЕРУ2ЧКМР1ЛМХЕРУtЕО4ДУЛМУДШЕt24ЪУК\n"
     ]
    }
   ],
   "source": [
    "text = ''\n",
    "with open('2-text.txt', mode='r', encoding='utf-8') as file:\n",
    "    text = file.read()\n",
    "    file.close()\n",
    "print(text)"
   ]
  },
  {
   "attachments": {},
   "cell_type": "markdown",
   "metadata": {},
   "source": [
    "#### Находим все разичные символы в тексте и определяем их частоту, последовательно отсортировав"
   ]
  },
  {
   "cell_type": "code",
   "execution_count": 4,
   "metadata": {},
   "outputs": [
    {
     "name": "stdout",
     "output_type": "stream",
     "text": [
      "['И', '7', 'У', '2', '4', '>', ' ', 'М', 'Р', 'Д', 'Е', 'П', 'Ч', 'Й', '8', 'О', 'А', 'Л', 'r', 't', 'Х', 'Ш', 'Ф', '1', '<', 'Ъ', '-', 'К', 'Ы', '5', 'Щ', 'Ь']\n",
      "{'И': 0.06155950752393981, '7': 0.005471956224350205, 'У': 0.07797537619699042, '2': 0.024623803009575923, '4': 0.07250341997264022, '>': 0.06566347469220246, ' ': 0.019151846785225718, 'М': 0.12448700410396717, 'Р': 0.04103967168262654, 'Д': 0.06429548563611491, 'Е': 0.09439124487004104, 'П': 0.005471956224350205, 'Ч': 0.01094391244870041, 'Й': 0.049247606019151846, '8': 0.019151846785225718, 'О': 0.04377564979480164, 'А': 0.013679890560875513, 'Л': 0.025991792065663474, 'r': 0.027359781121751026, 't': 0.04103967168262654, 'Х': 0.025991792065663474, 'Ш': 0.005471956224350205, 'Ф': 0.006839945280437756, '1': 0.03146374829001368, '<': 0.009575923392612859, 'Ъ': 0.006839945280437756, '-': 0.0027359781121751026, 'К': 0.006839945280437756, 'Ы': 0.0013679890560875513, '5': 0.0027359781121751026, 'Щ': 0.009575923392612859, 'Ь': 0.0027359781121751026}\n",
      "------------------------------\n",
      "{'М': 0.12448700410396717, 'Е': 0.09439124487004104, 'У': 0.07797537619699042, '4': 0.07250341997264022, '>': 0.06566347469220246, 'Д': 0.06429548563611491, 'И': 0.06155950752393981, 'Й': 0.049247606019151846, 'О': 0.04377564979480164, 't': 0.04103967168262654, 'Р': 0.04103967168262654, '1': 0.03146374829001368, 'r': 0.027359781121751026, 'Х': 0.025991792065663474, 'Л': 0.025991792065663474, '2': 0.024623803009575923, '8': 0.019151846785225718, ' ': 0.019151846785225718, 'А': 0.013679890560875513, 'Ч': 0.01094391244870041, 'Щ': 0.009575923392612859, '<': 0.009575923392612859, 'К': 0.006839945280437756, 'Ъ': 0.006839945280437756, 'Ф': 0.006839945280437756, 'Ш': 0.005471956224350205, 'П': 0.005471956224350205, '7': 0.005471956224350205, 'Ь': 0.0027359781121751026, '5': 0.0027359781121751026, '-': 0.0027359781121751026, 'Ы': 0.0013679890560875513}\n"
     ]
    }
   ],
   "source": [
    "text_chastota = {}\n",
    "l = len(text)\n",
    "text_litters = []\n",
    "for i in text:\n",
    "    if text_litters.count(i) == 0:\n",
    "        text_litters.append(i)\n",
    "print(text_litters)\n",
    "\n",
    "for i in text_litters:\n",
    "    text_chastota[i] = text.count(i) / l\n",
    "\n",
    "\n",
    "print(text_chastota)\n",
    "print('-'*30)\n",
    "text_chastota = sorted(text_chastota.items(), key = lambda item: item[1])\n",
    "text_chastota = dict(text_chastota[::-1])\n",
    "print(text_chastota)\n"
   ]
  },
  {
   "attachments": {},
   "cell_type": "markdown",
   "metadata": {},
   "source": [
    "#### Получение и вывод частот для удобства работы"
   ]
  },
  {
   "cell_type": "code",
   "execution_count": 5,
   "metadata": {},
   "outputs": [
    {
     "name": "stdout",
     "output_type": "stream",
     "text": [
      "0   (' ', ['0.128675']) \t\t ('М', 0.12448700410396717)\n",
      "1   ('О', ['0.096456']) \t\t ('Е', 0.09439124487004104)\n",
      "2   ('И', ['0.075312']) \t\t ('У', 0.07797537619699042)\n",
      "3   ('Е', ['0.072292']) \t\t ('4', 0.07250341997264022)\n",
      "4   ('А', ['0.064841']) \t\t ('>', 0.06566347469220246)\n",
      "5   ('Н', ['0.061820']) \t\t ('Д', 0.06429548563611491)\n",
      "6   ('Т', ['0.061619']) \t\t ('И', 0.06155950752393981)\n",
      "7   ('С', ['0.051953']) \t\t ('Й', 0.049247606019151846)\n",
      "8   ('Р', ['0.040677']) \t\t ('О', 0.04377564979480164)\n",
      "9   ('В', ['0.039267']) \t\t ('t', 0.04103967168262654)\n",
      "10   ('М', ['0.029803']) \t\t ('Р', 0.04103967168262654)\n",
      "11   ('Л', ['0.029400']) \t\t ('1', 0.03146374829001368)\n",
      "12   ('Д', ['0.026983']) \t\t ('r', 0.027359781121751026)\n",
      "13   ('Я', ['0.026379']) \t\t ('Х', 0.025991792065663474)\n",
      "14   ('К', ['0.025977']) \t\t ('Л', 0.025991792065663474)\n",
      "15   ('П', ['0.024768']) \t\t ('2', 0.024623803009575923)\n",
      "16   ('З', ['0.015908']) \t\t ('8', 0.019151846785225718)\n",
      "17   ('Ы', ['0.015707']) \t\t (' ', 0.019151846785225718)\n",
      "18   ('Ь', ['0.015103']) \t\t ('А', 0.013679890560875513)\n",
      "19   ('У', ['0.013290']) \t\t ('Ч', 0.01094391244870041)\n",
      "20   ('Ч', ['0.011679']) \t\t ('Щ', 0.009575923392612859)\n",
      "21   ('Ж', ['0.010673']) \t\t ('<', 0.009575923392612859)\n",
      "22   ('Г', ['0.009867']) \t\t ('К', 0.006839945280437756)\n",
      "23   ('Х', ['0.008659']) \t\t ('Ъ', 0.006839945280437756)\n",
      "24   ('Ф', ['0.007249']) \t\t ('Ф', 0.006839945280437756)\n",
      "25   ('Й', ['0.006847']) \t\t ('Ш', 0.005471956224350205)\n",
      "26   ('Ю', ['0.006847']) \t\t ('П', 0.005471956224350205)\n",
      "27   ('Б', ['0.006645']) \t\t ('7', 0.005471956224350205)\n",
      "28   ('Ц', ['0.005034']) \t\t ('Ь', 0.0027359781121751026)\n",
      "29   ('Ш', ['0.004229']) \t\t ('5', 0.0027359781121751026)\n",
      "30   ('Щ', ['0.003625']) \t\t ('-', 0.0027359781121751026)\n",
      "31   ('Э', ['0.002416']) \t\t ('Ы', 0.0013679890560875513)\n"
     ]
    }
   ],
   "source": [
    "item_litter_chastota = tuple(litter_chastota.items())\n",
    "item_text_chastota = tuple(text_chastota.items())\n",
    "for i in range (32):\n",
    "    print(i, ' ', item_litter_chastota[i], '\\t\\t', item_text_chastota[i])"
   ]
  },
  {
   "attachments": {},
   "cell_type": "markdown",
   "metadata": {},
   "source": [
    "## Расшифровка"
   ]
  },
  {
   "cell_type": "code",
   "execution_count": 67,
   "metadata": {},
   "outputs": [
    {
     "name": "stdout",
     "output_type": "stream",
     "text": [
      "1) Й = Т\n",
      "2) Ф = Й\n",
      "3) Ш = Ф\n",
      "4) Ы = Ш\n",
      "5) ' ' = Ы\n",
      "6) M = ' '\n",
      "7) 2 = М\n",
      "8) О = В\n",
      "9) Е = О\n",
      "10) > = Е\n",
      "11) Д = Н\n",
      "12) Р = Д\n",
      "13) И = С\n",
      "14) У = И\n",
      "15) Ч = У\n",
      "16) К = Ю\n",
      "17) Х = К\n",
      "18) Щ = Х\n",
      "19) Ь = Щ\n",
      "20) 5 = Б\n",
      "21) Л = Я\n",
      "22) 1 = Л\n",
      "23) Ъ = Ц\n",
      "24) А = Ь\n",
      "25) 4 = A\n",
      "26) П = Г\n",
      "27) r = П\n",
      "28) t = Р\n",
      "29) 7 = Ж\n",
      "30) < = Ч\n",
      "31) 8 = З\n",
      "СЖИМАЕМЫЕ ДАННЫЕ МОГУТ НАЗЫВАТЬСЯ ПОРАЗНОМУ  СТРОКА ФАЙЛ ТЕКСТ ИЛИ ДВОИЧНЫЕ ДАННЫЕ ИЛИ ОЦИФРОВАННЫЙ С-ИГНАЛ С ТОЧКИ ЗРЕНИЯ ТЕОРИИ ПРЕДПОЛАГАЕТСЯ ЧТО ДАННЫЕ ПРОИЗВОДЯТСЯ ИСТОЧНИКОМ И ПРЕДОСТАВЛЯЮТСЯ КОМПРЕССОРУ В ВИДЕ СИМВОЛА НАД НЕКОТОРЫМ АЛФАВИТОМ РАНЬШЕ ВЕСЬ ПРОЦЕСС СЖАТИЯ НАЗЫВАЛИ КОДИРОВАНИЕМ ИСТОЧНИКА ПОСКОЛЬКУ ОНО ПРИЗВАНО УДАЛИТЬ ИЗБЫТОЧНОСТЬ В ДАННЫХ НА ОСНОВЕ ИХ ПРЕДСКАЗУЕМОСТИ ПУТЕМ ИНОГО ПРЕДСТАВЛЕНИЯ ДАННЫХ  ТО ЕСТЬ ИХ КОДИРОВАНИЯ ЗА ДВА ПОСЛЕДНИХ ДЕСЯТИЛЕТИЯ КАРТИНА НЕСКОЛЬКО ИЗМЕНИЛАСЬ ПЕРВОЙ ЛАСТОЧКОЙ СТАЛА ИДЕЯ РАЗДЕЛИТЬ ПРОЦЕСС СЖАТИЯ НА ДВА ВЗАИМОСВЯЗАННЫХ ПРОЦЕССА КОДИРОВАНИЕ НЕПОСРЕДСТВЕННО ВОСПРОИЗВОДЯЩЕЕ СЖАТЫЙ ПОТОК- СИМВОЛОВ И МОДЕЛИРОВАНИЕ ПРЕДОСТАВЛЯЮЩЕЕ ВСЮ НЕОБХОДИМУЮ ДЛЯ КОДИРОВАНИЯ ИНФОРМАЦИЮ\n"
     ]
    }
   ],
   "source": [
    "new_text = text\n",
    "print('1) Й = Т')\n",
    "new_text = new_text.replace(item_text_chastota[7][0], item_litter_chastota[6][0])\n",
    "print('2) Ф = Й')\n",
    "new_text = new_text.replace(item_text_chastota[24][0], item_litter_chastota[25][0])\n",
    "print('3) Ш = Ф')\n",
    "new_text = new_text.replace(item_text_chastota[25][0], item_litter_chastota[24][0])\n",
    "print('4) Ы = Ш')\n",
    "new_text = new_text.replace(item_text_chastota[31][0], item_litter_chastota[29][0])\n",
    "print('5) \\' \\' = Ы')\n",
    "new_text = new_text.replace(item_text_chastota[17][0], item_litter_chastota[17][0])\n",
    "print('6) M = \\' \\'')\n",
    "new_text = new_text.replace(item_text_chastota[0][0], item_litter_chastota[0][0])\n",
    "print('7) 2 = М')\n",
    "new_text = new_text.replace(item_text_chastota[15][0], item_litter_chastota[10][0])\n",
    "print('8) О = В')\n",
    "new_text = new_text.replace(item_text_chastota[8][0], item_litter_chastota[9][0])\n",
    "print('9) Е = О')\n",
    "new_text = new_text.replace(item_text_chastota[1][0], item_litter_chastota[1][0])\n",
    "print('10) > = Е')\n",
    "new_text = new_text.replace(item_text_chastota[4][0], item_litter_chastota[3][0])\n",
    "print('11) Д = Н')\n",
    "new_text = new_text.replace(item_text_chastota[5][0], item_litter_chastota[5][0])\n",
    "print('12) Р = Д')\n",
    "new_text = new_text.replace(item_text_chastota[10][0], item_litter_chastota[12][0])\n",
    "print('13) И = С')\n",
    "new_text = new_text.replace(item_text_chastota[6][0], item_litter_chastota[7][0])\n",
    "print('14) У = И')\n",
    "new_text = new_text.replace(item_text_chastota[2][0], item_litter_chastota[2][0])\n",
    "print('15) Ч = У')\n",
    "new_text = new_text.replace(item_text_chastota[19][0], item_litter_chastota[19][0])\n",
    "print('16) К = Ю')\n",
    "new_text = new_text.replace(item_text_chastota[22][0], item_litter_chastota[26][0])\n",
    "print('17) Х = К')\n",
    "new_text = new_text.replace(item_text_chastota[13][0], item_litter_chastota[14][0])\n",
    "print('18) Щ = Х')\n",
    "new_text = new_text.replace(item_text_chastota[20][0], item_litter_chastota[23][0])\n",
    "print('19) Ь = Щ')\n",
    "new_text = new_text.replace(item_text_chastota[28][0], item_litter_chastota[30][0])\n",
    "print('20) 5 = Б')\n",
    "new_text = new_text.replace(item_text_chastota[29][0], item_litter_chastota[27][0])\n",
    "print('21) Л = Я')\n",
    "new_text = new_text.replace(item_text_chastota[14][0], item_litter_chastota[13][0])\n",
    "print('22) 1 = Л')\n",
    "new_text = new_text.replace(item_text_chastota[11][0], item_litter_chastota[11][0])\n",
    "print('23) Ъ = Ц')\n",
    "new_text = new_text.replace(item_text_chastota[23][0], item_litter_chastota[28][0])\n",
    "print('24) А = Ь')\n",
    "new_text = new_text.replace(item_text_chastota[18][0], item_litter_chastota[18][0])\n",
    "print('25) 4 = A')\n",
    "new_text = new_text.replace(item_text_chastota[3][0], item_litter_chastota[4][0])\n",
    "print('26) П = Г')\n",
    "new_text = new_text.replace(item_text_chastota[26][0], item_litter_chastota[22][0])\n",
    "print('27) r = П')\n",
    "new_text = new_text.replace(item_text_chastota[12][0], item_litter_chastota[15][0])\n",
    "print('28) t = Р')\n",
    "new_text = new_text.replace(item_text_chastota[9][0], item_litter_chastota[8][0])\n",
    "print('29) 7 = Ж')\n",
    "new_text = new_text.replace(item_text_chastota[27][0], item_litter_chastota[21][0])\n",
    "print('30) < = Ч')\n",
    "new_text = new_text.replace(item_text_chastota[21][0], item_litter_chastota[20][0])\n",
    "print('31) 8 = З')\n",
    "new_text = new_text.replace(item_text_chastota[16][0], item_litter_chastota[16][0])\n",
    "\n",
    "print(new_text)\n"
   ]
  }
 ],
 "metadata": {
  "kernelspec": {
   "display_name": "base",
   "language": "python",
   "name": "python3"
  },
  "language_info": {
   "codemirror_mode": {
    "name": "ipython",
    "version": 3
   },
   "file_extension": ".py",
   "mimetype": "text/x-python",
   "name": "python",
   "nbconvert_exporter": "python",
   "pygments_lexer": "ipython3",
   "version": "3.9.13"
  },
  "orig_nbformat": 4,
  "vscode": {
   "interpreter": {
    "hash": "960e651994a923c8580311382dd3517ae83689739d490e324b89482666af2124"
   }
  }
 },
 "nbformat": 4,
 "nbformat_minor": 2
}
